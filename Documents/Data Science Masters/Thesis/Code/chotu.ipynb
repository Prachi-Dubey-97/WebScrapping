{
 "cells": [
  {
   "cell_type": "code",
   "execution_count": null,
   "metadata": {},
   "outputs": [],
   "source": []
  },
  {
   "cell_type": "code",
   "execution_count": 16,
   "metadata": {},
   "outputs": [
    {
     "name": "stdout",
     "output_type": "stream",
     "text": [
      "Netflix Data Columns and Sample:\n",
      "         id                          title   type  \\\n",
      "0  tm1128292  Michael Che: Shame the Devil  MOVIE   \n",
      "1   tm869475                      Pagglait  MOVIE   \n",
      "2  tm1179579                 In Good Hands  MOVIE   \n",
      "3  tm1040733       In Our Mothers' Gardens  MOVIE   \n",
      "4  tm1080114                 Hostage House  MOVIE   \n",
      "\n",
      "                                         description  release year  \\\n",
      "0  Michael Che returns to the stage in Oakland an...          2021   \n",
      "1  Widowed soon after marriage, a young woman gra...          2021   \n",
      "2  Diagnosed with a terminal illness, a single mo...          2022   \n",
      "3  In Our Mothers' Gardens celebrates the strengt...          2021   \n",
      "4  A realtor and her daughter are taken hostage b...          2021   \n",
      "\n",
      "  a certificate  runtime                                     jonra country  \\\n",
      "0           NaN       58                                ['comedy']      []   \n",
      "1           NaN      114                       ['comedy', 'drama']  ['IN']   \n",
      "2           NaN      104  ['drama', 'comedy', 'romance', 'family']  ['TR']   \n",
      "3           NaN       84                         ['documentation']  ['US']   \n",
      "4           NaN       90                              ['thriller']  ['US']   \n",
      "\n",
      "   season     imdb id  imdb score  imdb votes  tmdb popularity  tmdb score  \n",
      "0     NaN  tt15829666         6.4      1091.0            3.478         7.2  \n",
      "1     NaN  tt11142762         6.9      9287.0            3.997         7.1  \n",
      "2     NaN  tt14898794         5.6      2618.0            8.290         6.7  \n",
      "3     NaN  tt14369930         8.6       132.0            2.079         NaN  \n",
      "4     NaN  tt13033790         3.9       860.0            4.731         6.8  \n",
      "Index(['id ', 'title', 'type', 'description', 'release year', 'a certificate',\n",
      "       'runtime', 'jonra', 'country', 'season', 'imdb id', 'imdb score',\n",
      "       'imdb votes', 'tmdb popularity', 'tmdb score'],\n",
      "      dtype='object')\n",
      "\n",
      "IMDb Data Columns and Sample:\n",
      "                                              Review sentiment\n",
      "0  I am sick of series with young and clueless pe...  positive\n",
      "1  I almost drowned in CHEESE watching this movie...  negative\n",
      "2  This is almost certainly the worst Western I'v...  negative\n",
      "3  I've noticed that a lot of people are taking O...  positive\n",
      "4  Michael Bowen plays an innocentish young man w...  positive\n",
      "Index(['Review', 'sentiment'], dtype='object')\n"
     ]
    }
   ],
   "source": [
    "import pandas as pd\n",
    "import re\n",
    "# Load the Netflix and IMDb datasets\n",
    "netflix_data_path = 'C:/Users/Prachi/Downloads/Netflix_data.csv'\n",
    "imdb_data_path = 'C:/Users/Prachi/Downloads/IMDB Dataset.csv'\n",
    "import pandas as pd\n",
    "\n",
    "# Load the datasets\n",
    "netflix_data = pd.read_csv(netflix_data_path)\n",
    "imdb_dataset = pd.read_csv(imdb_data_path)\n",
    "\n",
    "# Display the first few rows of each dataset to inspect the columns\n",
    "print(\"Netflix Data Columns and Sample:\")\n",
    "print(netflix_data.head())\n",
    "print(netflix_data.columns)\n",
    "\n",
    "print(\"\\nIMDb Data Columns and Sample:\")\n",
    "print(imdb_dataset.head())\n",
    "print(imdb_dataset.columns)\n",
    "\n",
    "# Insert here the modified script from the previous example if columns are confirmed\n",
    "# Define a function to match titles and analyze sentiments\n",
    "def analyze_sentiment(title, imdb_dataset):\n",
    "    # Use regular expressions for case-insensitive search in reviews\n",
    "    pattern = re.compile(re.escape(title), re.IGNORECASE)\n",
    "    matched_reviews = imdb_dataset[imdb_dataset['Review'].apply(lambda x: bool(pattern.search(x)))]\n",
    "    \n",
    "    # Count sentiments if any reviews matched\n",
    "    if not matched_reviews.empty:\n",
    "        positive_count = (matched_reviews['sentiment'] == 'positive').sum()\n",
    "        negative_count = (matched_reviews['sentiment'] == 'negative').sum()\n",
    "        \n",
    "        return positive_count - negative_count\n",
    "    else:\n",
    "        # Return None if no reviews found\n",
    "        return None\n",
    "\n",
    "# Apply the function and update Netflix data after confirming column names\n",
    "netflix_data['Dominant_Sentiment'] = netflix_data['title'].apply(analyze_sentiment, imdb_dataset=imdb_dataset)\n",
    "netflix_data.to_csv('C:/Users/Prachi/Downloads/Updated_Netflix_data.csv', index=False)\n",
    "\n"
   ]
  },
  {
   "cell_type": "code",
   "execution_count": 19,
   "metadata": {},
   "outputs": [
    {
     "ename": "KeyError",
     "evalue": "\"['imdb_score', 'imdb_votes', 'tmdb_pop', 'tmdb_score'] not in index\"",
     "output_type": "error",
     "traceback": [
      "\u001b[1;31m---------------------------------------------------------------------------\u001b[0m",
      "\u001b[1;31mKeyError\u001b[0m                                  Traceback (most recent call last)",
      "Cell \u001b[1;32mIn[19], line 8\u001b[0m\n\u001b[0;32m      5\u001b[0m netflix_data\u001b[38;5;241m.\u001b[39mdropna(subset\u001b[38;5;241m=\u001b[39m[\u001b[38;5;124m'\u001b[39m\u001b[38;5;124mDominant_Sentiment\u001b[39m\u001b[38;5;124m'\u001b[39m], inplace\u001b[38;5;241m=\u001b[39m\u001b[38;5;28;01mTrue\u001b[39;00m)\n\u001b[0;32m      7\u001b[0m \u001b[38;5;66;03m# Calculate the correlation matrix\u001b[39;00m\n\u001b[1;32m----> 8\u001b[0m correlation_matrix \u001b[38;5;241m=\u001b[39m netflix_data[[\u001b[38;5;124m'\u001b[39m\u001b[38;5;124mimdb_score\u001b[39m\u001b[38;5;124m'\u001b[39m, \u001b[38;5;124m'\u001b[39m\u001b[38;5;124mimdb_votes\u001b[39m\u001b[38;5;124m'\u001b[39m, \u001b[38;5;124m'\u001b[39m\u001b[38;5;124mtmdb_pop\u001b[39m\u001b[38;5;124m'\u001b[39m, \u001b[38;5;124m'\u001b[39m\u001b[38;5;124mtmdb_score\u001b[39m\u001b[38;5;124m'\u001b[39m, \u001b[38;5;124m'\u001b[39m\u001b[38;5;124mDominant_Sentiment\u001b[39m\u001b[38;5;124m'\u001b[39m]]\u001b[38;5;241m.\u001b[39mcorr()\n\u001b[0;32m     10\u001b[0m \u001b[38;5;66;03m# Plot the heatmap\u001b[39;00m\n\u001b[0;32m     11\u001b[0m plt\u001b[38;5;241m.\u001b[39mfigure(figsize\u001b[38;5;241m=\u001b[39m(\u001b[38;5;241m10\u001b[39m, \u001b[38;5;241m8\u001b[39m))\n",
      "File \u001b[1;32mc:\\Users\\Prachi\\anaconda3\\Lib\\site-packages\\pandas\\core\\frame.py:3813\u001b[0m, in \u001b[0;36mDataFrame.__getitem__\u001b[1;34m(self, key)\u001b[0m\n\u001b[0;32m   3811\u001b[0m     \u001b[38;5;28;01mif\u001b[39;00m is_iterator(key):\n\u001b[0;32m   3812\u001b[0m         key \u001b[38;5;241m=\u001b[39m \u001b[38;5;28mlist\u001b[39m(key)\n\u001b[1;32m-> 3813\u001b[0m     indexer \u001b[38;5;241m=\u001b[39m \u001b[38;5;28mself\u001b[39m\u001b[38;5;241m.\u001b[39mcolumns\u001b[38;5;241m.\u001b[39m_get_indexer_strict(key, \u001b[38;5;124m\"\u001b[39m\u001b[38;5;124mcolumns\u001b[39m\u001b[38;5;124m\"\u001b[39m)[\u001b[38;5;241m1\u001b[39m]\n\u001b[0;32m   3815\u001b[0m \u001b[38;5;66;03m# take() does not accept boolean indexers\u001b[39;00m\n\u001b[0;32m   3816\u001b[0m \u001b[38;5;28;01mif\u001b[39;00m \u001b[38;5;28mgetattr\u001b[39m(indexer, \u001b[38;5;124m\"\u001b[39m\u001b[38;5;124mdtype\u001b[39m\u001b[38;5;124m\"\u001b[39m, \u001b[38;5;28;01mNone\u001b[39;00m) \u001b[38;5;241m==\u001b[39m \u001b[38;5;28mbool\u001b[39m:\n",
      "File \u001b[1;32mc:\\Users\\Prachi\\anaconda3\\Lib\\site-packages\\pandas\\core\\indexes\\base.py:6070\u001b[0m, in \u001b[0;36mIndex._get_indexer_strict\u001b[1;34m(self, key, axis_name)\u001b[0m\n\u001b[0;32m   6067\u001b[0m \u001b[38;5;28;01melse\u001b[39;00m:\n\u001b[0;32m   6068\u001b[0m     keyarr, indexer, new_indexer \u001b[38;5;241m=\u001b[39m \u001b[38;5;28mself\u001b[39m\u001b[38;5;241m.\u001b[39m_reindex_non_unique(keyarr)\n\u001b[1;32m-> 6070\u001b[0m \u001b[38;5;28mself\u001b[39m\u001b[38;5;241m.\u001b[39m_raise_if_missing(keyarr, indexer, axis_name)\n\u001b[0;32m   6072\u001b[0m keyarr \u001b[38;5;241m=\u001b[39m \u001b[38;5;28mself\u001b[39m\u001b[38;5;241m.\u001b[39mtake(indexer)\n\u001b[0;32m   6073\u001b[0m \u001b[38;5;28;01mif\u001b[39;00m \u001b[38;5;28misinstance\u001b[39m(key, Index):\n\u001b[0;32m   6074\u001b[0m     \u001b[38;5;66;03m# GH 42790 - Preserve name from an Index\u001b[39;00m\n",
      "File \u001b[1;32mc:\\Users\\Prachi\\anaconda3\\Lib\\site-packages\\pandas\\core\\indexes\\base.py:6133\u001b[0m, in \u001b[0;36mIndex._raise_if_missing\u001b[1;34m(self, key, indexer, axis_name)\u001b[0m\n\u001b[0;32m   6130\u001b[0m     \u001b[38;5;28;01mraise\u001b[39;00m \u001b[38;5;167;01mKeyError\u001b[39;00m(\u001b[38;5;124mf\u001b[39m\u001b[38;5;124m\"\u001b[39m\u001b[38;5;124mNone of [\u001b[39m\u001b[38;5;132;01m{\u001b[39;00mkey\u001b[38;5;132;01m}\u001b[39;00m\u001b[38;5;124m] are in the [\u001b[39m\u001b[38;5;132;01m{\u001b[39;00maxis_name\u001b[38;5;132;01m}\u001b[39;00m\u001b[38;5;124m]\u001b[39m\u001b[38;5;124m\"\u001b[39m)\n\u001b[0;32m   6132\u001b[0m not_found \u001b[38;5;241m=\u001b[39m \u001b[38;5;28mlist\u001b[39m(ensure_index(key)[missing_mask\u001b[38;5;241m.\u001b[39mnonzero()[\u001b[38;5;241m0\u001b[39m]]\u001b[38;5;241m.\u001b[39munique())\n\u001b[1;32m-> 6133\u001b[0m \u001b[38;5;28;01mraise\u001b[39;00m \u001b[38;5;167;01mKeyError\u001b[39;00m(\u001b[38;5;124mf\u001b[39m\u001b[38;5;124m\"\u001b[39m\u001b[38;5;132;01m{\u001b[39;00mnot_found\u001b[38;5;132;01m}\u001b[39;00m\u001b[38;5;124m not in index\u001b[39m\u001b[38;5;124m\"\u001b[39m)\n",
      "\u001b[1;31mKeyError\u001b[0m: \"['imdb_score', 'imdb_votes', 'tmdb_pop', 'tmdb_score'] not in index\""
     ]
    }
   ],
   "source": [
    "import pandas as pd\n",
    "import seaborn as sns\n",
    "import matplotlib.pyplot as plt\n",
    "# Drop any rows where 'Dominant_Sentiment' might be NaN after mapping if any\n",
    "netflix_data.dropna(subset=['Dominant_Sentiment'], inplace=True)\n",
    "\n",
    "# Calculate the correlation matrix\n",
    "correlation_matrix = netflix_data[['imdb_scores', 'imdb_votes', 'tmdb_pop', 'tmdb_scores', 'Sentiments']].corr()\n",
    "\n",
    "# Plot the heatmap\n",
    "plt.figure(figsize=(10, 8))\n",
    "sns.heatmap(correlation_matrix, annot=True, fmt=\".2f\", cmap='coolwarm')\n",
    "plt.title('Correlation Heatmap')\n",
    "plt.show()"
   ]
  },
  {
   "cell_type": "code",
   "execution_count": 5,
   "metadata": {},
   "outputs": [
    {
     "data": {
      "text/plain": [
       "['id ,title,type,description,release year,a certificate,runtime,jonra,country,season,imdb id,imdb score,imdb votes,tmdb popularity,tmdb score\\n',\n",
       " 'tm1128292,Michael Che: Shame the Devil,MOVIE,\"Michael Che returns to the stage in Oakland and tackles American patriotism, Black leadership, jealous exes, loose bears, mental health and more.\",2021,,58,[\\'comedy\\'],[],,tt15829666,6.4,1091,3.478,7.2\\n',\n",
       " 'tm869475,Pagglait,MOVIE,\"Widowed soon after marriage, a young woman grapples with an inability to grieve, quirky relatives, and a startling discovery about her late husband.\",2021,,114,\"[\\'comedy\\', \\'drama\\']\",[\\'IN\\'],,tt11142762,6.9,9287,3.997,7.1\\n',\n",
       " 'tm1179579,In Good Hands,MOVIE,\"Diagnosed with a terminal illness, a single mother encounters a suave bachelor as she grapples with the future of her headstrong six-year-old.\",2022,,104,\"[\\'drama\\', \\'comedy\\', \\'romance\\', \\'family\\']\",[\\'TR\\'],,tt14898794,5.6,2618,8.29,6.7\\n',\n",
       " 'tm1040733,In Our Mothers\\' Gardens,MOVIE,\"In Our Mothers\\' Gardens celebrates the strength and resiliency of Black women and Black families through the complex, and often times humorous, relationship between mothers and daughters.\",2021,,84,[\\'documentation\\'],[\\'US\\'],,tt14369930,8.6,132,2.079,\\n']"
      ]
     },
     "execution_count": 5,
     "metadata": {},
     "output_type": "execute_result"
    }
   ],
   "source": [
    "# Attempt to reload the Netflix data with better understanding of delimiter and header row\n",
    "# Also reloading the IMDb data with clearer delimiter identification\n",
    "\n",
    "# Inspecting few lines to determine the correct delimiter\n",
    "with open(netflix_data_path, 'r') as file:\n",
    "    sample_lines = [next(file) for x in range(5)]\n",
    "\n",
    "sample_lines\n"
   ]
  },
  {
   "cell_type": "code",
   "execution_count": 6,
   "metadata": {},
   "outputs": [
    {
     "data": {
      "text/plain": [
       "('\"I am sick of series with young and clueless people, talking about their \"\"problems\"\" all the time, self centered, boring and absolutely annoying (Popular; Dawson\\'s Creek; Beverly Hills; etc). \"\"Hack\"\" is a breath of fresh air, with a great actor (David Morse), a completely different plot, credible people with REAL problems (thank God !!) and very, very good histories. I just love it!! I hope \"\"Hack\"\" will go on for a long time, because it is a great television series for grown up people, for a change.\",positive\\n',\n",
       "   I am sick of series with young and clueless people, talking about their \"problems\" all the time, self centered, boring and absolutely annoying (Popular; Dawson's Creek; Beverly Hills; etc). \"Hack\" is a breath of fresh air, with a great actor (David Morse), a completely different plot, credible people with REAL problems (thank God !!) and very, very good histories. I just love it!! I hope \"Hack\" will go on for a long time, because it is a great television series for grown up people, for a change.  \\\n",
       " 0  I almost drowned in CHEESE watching this movie...                                                                                                                                                                                                                                                                                                                                                                                                                                                                     \n",
       " 1  This is almost certainly the worst Western I'v...                                                                                                                                                                                                                                                                                                                                                                                                                                                                     \n",
       " 2  I've noticed that a lot of people are taking O...                                                                                                                                                                                                                                                                                                                                                                                                                                                                     \n",
       " 3  Michael Bowen plays an innocentish young man w...                                                                                                                                                                                                                                                                                                                                                                                                                                                                     \n",
       " 4  It was a rare treat to see \"Checking Out\". I w...                                                                                                                                                                                                                                                                                                                                                                                                                                                                     \n",
       " \n",
       "    positive  \n",
       " 0  negative  \n",
       " 1  negative  \n",
       " 2  positive  \n",
       " 3  positive  \n",
       " 4  positive  )"
      ]
     },
     "execution_count": 6,
     "metadata": {},
     "output_type": "execute_result"
    }
   ],
   "source": [
    "# Reload both datasets with improved parsing settings\n",
    "\n",
    "# Reloading Netflix data with improved handling of quotes and commas\n",
    "netflix_data = pd.read_csv(netflix_data_path, quotechar='\"', delimiter=',', escapechar='\\\\')\n",
    "netflix_titles = netflix_data.iloc[:, 1]  # Assuming the second column holds the movie titles based on previous output\n",
    "\n",
    "# Check the headers of the IMDb data to understand the structure better\n",
    "with open(imdb_data_path, 'r') as file:\n",
    "    imdb_headers = next(file)\n",
    "\n",
    "imdb_headers, imdb_data.head()\n"
   ]
  },
  {
   "cell_type": "code",
   "execution_count": 7,
   "metadata": {},
   "outputs": [
    {
     "ename": "KeyError",
     "evalue": "'review'",
     "output_type": "error",
     "traceback": [
      "\u001b[1;31m---------------------------------------------------------------------------\u001b[0m",
      "\u001b[1;31mKeyError\u001b[0m                                  Traceback (most recent call last)",
      "File \u001b[1;32mc:\\Users\\Prachi\\anaconda3\\Lib\\site-packages\\pandas\\core\\indexes\\base.py:3802\u001b[0m, in \u001b[0;36mIndex.get_loc\u001b[1;34m(self, key, method, tolerance)\u001b[0m\n\u001b[0;32m   3801\u001b[0m \u001b[38;5;28;01mtry\u001b[39;00m:\n\u001b[1;32m-> 3802\u001b[0m     \u001b[38;5;28;01mreturn\u001b[39;00m \u001b[38;5;28mself\u001b[39m\u001b[38;5;241m.\u001b[39m_engine\u001b[38;5;241m.\u001b[39mget_loc(casted_key)\n\u001b[0;32m   3803\u001b[0m \u001b[38;5;28;01mexcept\u001b[39;00m \u001b[38;5;167;01mKeyError\u001b[39;00m \u001b[38;5;28;01mas\u001b[39;00m err:\n",
      "File \u001b[1;32mc:\\Users\\Prachi\\anaconda3\\Lib\\site-packages\\pandas\\_libs\\index.pyx:138\u001b[0m, in \u001b[0;36mpandas._libs.index.IndexEngine.get_loc\u001b[1;34m()\u001b[0m\n",
      "File \u001b[1;32mc:\\Users\\Prachi\\anaconda3\\Lib\\site-packages\\pandas\\_libs\\index.pyx:165\u001b[0m, in \u001b[0;36mpandas._libs.index.IndexEngine.get_loc\u001b[1;34m()\u001b[0m\n",
      "File \u001b[1;32mpandas\\_libs\\hashtable_class_helper.pxi:5745\u001b[0m, in \u001b[0;36mpandas._libs.hashtable.PyObjectHashTable.get_item\u001b[1;34m()\u001b[0m\n",
      "File \u001b[1;32mpandas\\_libs\\hashtable_class_helper.pxi:5753\u001b[0m, in \u001b[0;36mpandas._libs.hashtable.PyObjectHashTable.get_item\u001b[1;34m()\u001b[0m\n",
      "\u001b[1;31mKeyError\u001b[0m: 'review'",
      "\nThe above exception was the direct cause of the following exception:\n",
      "\u001b[1;31mKeyError\u001b[0m                                  Traceback (most recent call last)",
      "Cell \u001b[1;32mIn[7], line 26\u001b[0m\n\u001b[0;32m     23\u001b[0m     \u001b[38;5;28;01mreturn\u001b[39;00m results\n\u001b[0;32m     25\u001b[0m \u001b[38;5;66;03m# Apply the function\u001b[39;00m\n\u001b[1;32m---> 26\u001b[0m netflix_data[\u001b[38;5;124m'\u001b[39m\u001b[38;5;124mPredominant_Sentiment\u001b[39m\u001b[38;5;124m'\u001b[39m] \u001b[38;5;241m=\u001b[39m analyze_reviews(netflix_titles, imdb_data[\u001b[38;5;124m'\u001b[39m\u001b[38;5;124mreview\u001b[39m\u001b[38;5;124m'\u001b[39m], imdb_data[\u001b[38;5;124m'\u001b[39m\u001b[38;5;124msentiment\u001b[39m\u001b[38;5;124m'\u001b[39m])\n\u001b[0;32m     28\u001b[0m \u001b[38;5;66;03m# Display the updated Netflix data to verify the new column\u001b[39;00m\n\u001b[0;32m     29\u001b[0m netflix_data\u001b[38;5;241m.\u001b[39mhead()\n",
      "File \u001b[1;32mc:\\Users\\Prachi\\anaconda3\\Lib\\site-packages\\pandas\\core\\frame.py:3807\u001b[0m, in \u001b[0;36mDataFrame.__getitem__\u001b[1;34m(self, key)\u001b[0m\n\u001b[0;32m   3805\u001b[0m \u001b[38;5;28;01mif\u001b[39;00m \u001b[38;5;28mself\u001b[39m\u001b[38;5;241m.\u001b[39mcolumns\u001b[38;5;241m.\u001b[39mnlevels \u001b[38;5;241m>\u001b[39m \u001b[38;5;241m1\u001b[39m:\n\u001b[0;32m   3806\u001b[0m     \u001b[38;5;28;01mreturn\u001b[39;00m \u001b[38;5;28mself\u001b[39m\u001b[38;5;241m.\u001b[39m_getitem_multilevel(key)\n\u001b[1;32m-> 3807\u001b[0m indexer \u001b[38;5;241m=\u001b[39m \u001b[38;5;28mself\u001b[39m\u001b[38;5;241m.\u001b[39mcolumns\u001b[38;5;241m.\u001b[39mget_loc(key)\n\u001b[0;32m   3808\u001b[0m \u001b[38;5;28;01mif\u001b[39;00m is_integer(indexer):\n\u001b[0;32m   3809\u001b[0m     indexer \u001b[38;5;241m=\u001b[39m [indexer]\n",
      "File \u001b[1;32mc:\\Users\\Prachi\\anaconda3\\Lib\\site-packages\\pandas\\core\\indexes\\base.py:3804\u001b[0m, in \u001b[0;36mIndex.get_loc\u001b[1;34m(self, key, method, tolerance)\u001b[0m\n\u001b[0;32m   3802\u001b[0m     \u001b[38;5;28;01mreturn\u001b[39;00m \u001b[38;5;28mself\u001b[39m\u001b[38;5;241m.\u001b[39m_engine\u001b[38;5;241m.\u001b[39mget_loc(casted_key)\n\u001b[0;32m   3803\u001b[0m \u001b[38;5;28;01mexcept\u001b[39;00m \u001b[38;5;167;01mKeyError\u001b[39;00m \u001b[38;5;28;01mas\u001b[39;00m err:\n\u001b[1;32m-> 3804\u001b[0m     \u001b[38;5;28;01mraise\u001b[39;00m \u001b[38;5;167;01mKeyError\u001b[39;00m(key) \u001b[38;5;28;01mfrom\u001b[39;00m \u001b[38;5;21;01merr\u001b[39;00m\n\u001b[0;32m   3805\u001b[0m \u001b[38;5;28;01mexcept\u001b[39;00m \u001b[38;5;167;01mTypeError\u001b[39;00m:\n\u001b[0;32m   3806\u001b[0m     \u001b[38;5;66;03m# If we have a listlike key, _check_indexing_error will raise\u001b[39;00m\n\u001b[0;32m   3807\u001b[0m     \u001b[38;5;66;03m#  InvalidIndexError. Otherwise we fall through and re-raise\u001b[39;00m\n\u001b[0;32m   3808\u001b[0m     \u001b[38;5;66;03m#  the TypeError.\u001b[39;00m\n\u001b[0;32m   3809\u001b[0m     \u001b[38;5;28mself\u001b[39m\u001b[38;5;241m.\u001b[39m_check_indexing_error(key)\n",
      "\u001b[1;31mKeyError\u001b[0m: 'review'"
     ]
    }
   ],
   "source": [
    "def analyze_reviews(netflix_titles, imdb_reviews, imdb_sentiments):\n",
    "    results = []\n",
    "    for title in netflix_titles:\n",
    "        # Find reviews that contain the movie title\n",
    "        matches = imdb_reviews.str.contains(title, case=False, na=False)\n",
    "        matched_reviews = imdb_sentiments[matches]\n",
    "        \n",
    "        if matched_reviews.empty:\n",
    "            results.append(\"\")  # No reviews found, append an empty string\n",
    "        else:\n",
    "            # Count positive and negative reviews\n",
    "            positive_count = (matched_reviews == \"positive\").sum()\n",
    "            negative_count = (matched_reviews == \"negative\").sum()\n",
    "            \n",
    "            # Determine the predominant sentiment\n",
    "            if positive_count > negative_count:\n",
    "                results.append(\"positive\")\n",
    "            elif negative_count > positive_count:\n",
    "                results.append(\"negative\")\n",
    "            else:\n",
    "                results.append(\"equal\")  # Both counts are equal\n",
    "            \n",
    "    return results\n",
    "\n",
    "# Apply the function\n",
    "netflix_data['Predominant_Sentiment'] = analyze_reviews(netflix_titles, imdb_data['review'], imdb_data['sentiment'])\n",
    "\n",
    "# Display the updated Netflix data to verify the new column\n",
    "netflix_data.head()\n"
   ]
  }
 ],
 "metadata": {
  "kernelspec": {
   "display_name": "base",
   "language": "python",
   "name": "python3"
  },
  "language_info": {
   "codemirror_mode": {
    "name": "ipython",
    "version": 3
   },
   "file_extension": ".py",
   "mimetype": "text/x-python",
   "name": "python",
   "nbconvert_exporter": "python",
   "pygments_lexer": "ipython3",
   "version": "3.11.4"
  }
 },
 "nbformat": 4,
 "nbformat_minor": 2
}
